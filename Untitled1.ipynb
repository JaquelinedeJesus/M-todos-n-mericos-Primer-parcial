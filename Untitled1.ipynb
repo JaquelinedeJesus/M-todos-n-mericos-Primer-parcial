{
  "nbformat": 4,
  "nbformat_minor": 0,
  "metadata": {
    "colab": {
      "provenance": [],
      "authorship_tag": "ABX9TyP9Em+aIGdFtT0vNvn007ap",
      "include_colab_link": true
    },
    "kernelspec": {
      "name": "python3",
      "display_name": "Python 3"
    },
    "language_info": {
      "name": "python"
    }
  },
  "cells": [
    {
      "cell_type": "markdown",
      "metadata": {
        "id": "view-in-github",
        "colab_type": "text"
      },
      "source": [
        "<a href=\"https://colab.research.google.com/github/JaquelinedeJesus/M-todos-n-mericos-Primer-parcial/blob/main/Untitled1.ipynb\" target=\"_parent\"><img src=\"https://colab.research.google.com/assets/colab-badge.svg\" alt=\"Open In Colab\"/></a>"
      ]
    },
    {
      "cell_type": "code",
      "execution_count": null,
      "metadata": {
        "colab": {
          "base_uri": "https://localhost:8080/"
        },
        "id": "ZGTKmoyWCoq1",
        "outputId": "9590810e-4c09-486b-93c3-92c675a383be"
      },
      "outputs": [
        {
          "output_type": "stream",
          "name": "stdout",
          "text": [
            "Digite la función x-1\n",
            "digite un valor inicial 1\n",
            "digite las iteraciones a realizar 5\n",
            "ingrese el error máximo permitido 0.001\n",
            "x 1 = 0.0\n",
            "x 2 = -1.0\n",
            "x 3 = -2.0\n",
            "x 4 = -3.0\n",
            "x 5 = -4.0\n"
          ]
        }
      ],
      "source": [
        "from math import *\n",
        "import sympy as sp\n",
        "\n",
        "\n",
        "def puntofijo():\n",
        "    x=sp.symbols('x')\n",
        "    g=input('Digite la función ')\n",
        "    g=sp.lambdify(x,g)\n",
        "    x0=input('digite un valor inicial ')\n",
        "    x0=float(x0)\n",
        "    n=input('digite las iteraciones a realizar ')\n",
        "    n=int(n)\n",
        "    tol=input('ingrese el error máximo permitido ')\n",
        "    tol=float(tol)\n",
        "    for k in range(n):\n",
        "        x1=g(x0)\n",
        "        if(abs(x1-x0)<tol):\n",
        "           print('x',k+1,'=',x1,'es un punto fijo')\n",
        "           return\n",
        "        x0=x1\n",
        "        print('x',k+1,'=',x1)\n",
        "puntofijo()\n"
      ]
    }
  ]
}